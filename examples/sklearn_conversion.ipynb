{
 "cells": [
  {
   "cell_type": "markdown",
   "id": "d43d8c8a",
   "metadata": {},
   "source": [
    "# Example: Converting scikit-learn models to CalcSet\n",
    "\n",
    "This notebook demonstrates how to convert a scikit-learn decision tree regressor to a pollywog CalcSet. You'll learn how to:\n",
    "- Train a decision tree regressor with scikit-learn\n",
    "- Convert the trained model to a CalcSet using pollywog\n",
    "- Inspect the resulting calculation structure\n"
   ]
  },
  {
   "cell_type": "code",
   "execution_count": 1,
   "id": "a860d519",
   "metadata": {},
   "outputs": [],
   "source": [
    "import sys\n",
    "\n",
    "p = \"..\"\n",
    "if p not in sys.path:\n",
    "    sys.path.insert(0, p)\n",
    "\n",
    "import pollywog as pw"
   ]
  },
  {
   "cell_type": "markdown",
   "id": "5bc48db0",
   "metadata": {},
   "source": [
    "# Example: Converting scikit-learn models to CalcSet\n",
    "This notebook demonstrates how to convert a decision tree regressor to a CalcSet."
   ]
  },
  {
   "cell_type": "code",
   "execution_count": 4,
   "id": "eeaef0f9",
   "metadata": {},
   "outputs": [
    {
     "name": "stdout",
     "output_type": "stream",
     "text": [
      "Converted CalcSet:\n"
     ]
    },
    {
     "data": {
      "text/html": [
       "<div style=\"font-family:sans-serif;max-width:900px;color:#222;\"><details open><summary style=\"font-size:1.1em;font-weight:bold;color:#0057b7;\">Calculations</summary><div style=\"margin-bottom:0.5em;\"><b style=\"color:#0057b7;\">target</b> <span style=\"background:#eee;border-radius:4px;padding:2px 6px;color:#222;\">number</span><div style=\"margin-left:1em;color:#555;\"><span style=\"color:#222;\"></span><br><div style=\"margin-left:0px;border-left:2px solid #0057b7;padding-left:8px;\"><span style=\"color:#0057b7;\">if</span> <span style=\"color:#222;\"><span style=\"color:#b77;\">[Cu_final]</span> &lt;= 0.3500000014901161</span> <span style=\"color:#222;\">&rarr;</span> &nbsp;&nbsp;&nbsp;&nbsp;<span style=\"color:#222;\">0.7</span></div><div style=\"margin-left:0px;border-left:2px solid #0057b7;padding-left:8px;\"><span style=\"color:#0057b7;\">otherwise</span> <span style=\"color:#222;\">&rarr;</span> &nbsp;&nbsp;&nbsp;&nbsp;<span style=\"color:#222;\">0.8</span></div><br><span style=\"color:#222;\"></span> <span style=\"color:#999;\">Converted from DecisionTreeRegressor</span></div></div></details></div>"
      ],
      "text/plain": [
       "{\n",
       "  \"type\": \"calculation-set\",\n",
       "  \"items\": [\n",
       "    {\n",
       "      \"type\": \"calculation\",\n",
       "      \"name\": \"target\",\n",
       "      \"equation\": {\n",
       "        \"type\": \"equation\",\n",
       "        \"comment\": \"Converted from DecisionTreeRegressor\",\n",
       "        \"statement\": {\n",
       "          \"type\": \"list\",\n",
       "          \"children\": [\n",
       "            \"\",\n",
       "            {\n",
       "              \"type\": \"if\",\n",
       "              \"rows\": [\n",
       "                {\n",
       "                  \"type\": \"if_row\",\n",
       "                  \"test\": {\n",
       "                    \"type\": \"list\",\n",
       "                    \"children\": [\n",
       "                      \"[Cu_final] <= 0.3500000014901161\"\n",
       "                    ]\n",
       "                  },\n",
       "                  \"result\": {\n",
       "                    \"type\": \"list\",\n",
       "                    \"children\": [\n",
       "                      \"0.7\"\n",
       "                    ]\n",
       "                  }\n",
       "                }\n",
       "              ],\n",
       "              \"otherwise\": {\n",
       "                \"type\": \"list\",\n",
       "                \"children\": [\n",
       "                  \"0.8\"\n",
       "                ]\n",
       "              }\n",
       "            },\n",
       "            \"\"\n",
       "          ]\n",
       "        }\n",
       "      },\n",
       "      \"comment\": \"\",\n",
       "      \"calculation_type\": \"number\"\n",
       "    }\n",
       "  ]\n",
       "}"
      ]
     },
     "metadata": {},
     "output_type": "display_data"
    },
    {
     "name": "stdout",
     "output_type": "stream",
     "text": [
      "Item: target, Type: calculation, Children: <pollywog.core.If object at 0x00000184F3CD0D50>\n"
     ]
    }
   ],
   "source": [
    "from pollywog.conversion.sklearn import convert_tree\n",
    "from sklearn.tree import DecisionTreeRegressor\n",
    "import numpy as np\n",
    "\n",
    "# Step 1: Prepare training data\n",
    "X = np.array([[0.2, 1.0, 10], [0.5, 2.0, 20]])\n",
    "y = np.array([0.7, 0.8])\n",
    "feature_names = [\"Cu_final\", \"Au_final\", \"Ag_final\"]\n",
    "\n",
    "# Step 2: Train a decision tree regressor\n",
    "reg = DecisionTreeRegressor().fit(X, y)\n",
    "\n",
    "# Step 3: Convert the trained model to a CalcSet\n",
    "calcset = pw.CalcSet([convert_tree(reg, feature_names, \"target\")])\n",
    "print(\"Converted CalcSet:\")\n",
    "display(calcset)\n",
    "\n",
    "# Step 4: Inspect the calculation structure\n",
    "for item in calcset.items:\n",
    "    print(\n",
    "        f\"Item: {item.name}, Type: {getattr(item, 'item_type', type(item))}, Children: {item.children}\"\n",
    "    )"
   ]
  },
  {
   "cell_type": "code",
   "execution_count": null,
   "id": "b81ae600",
   "metadata": {},
   "outputs": [],
   "source": []
  }
 ],
 "metadata": {
  "kernelspec": {
   "display_name": "lf",
   "language": "python",
   "name": "python3"
  },
  "language_info": {
   "codemirror_mode": {
    "name": "ipython",
    "version": 3
   },
   "file_extension": ".py",
   "mimetype": "text/x-python",
   "name": "python",
   "nbconvert_exporter": "python",
   "pygments_lexer": "ipython3",
   "version": "3.11.13"
  }
 },
 "nbformat": 4,
 "nbformat_minor": 5
}
