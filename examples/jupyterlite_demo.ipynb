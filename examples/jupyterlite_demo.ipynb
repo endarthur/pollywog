{
 "cells": [
  {
   "cell_type": "markdown",
   "id": "ae3e7021",
   "metadata": {},
   "source": [
    "# Pollywog JupyterLite Demo\n",
    "\n",
    "This notebook demonstrates pollywog's JupyterLite features, including automatic file downloads and manual download utilities."
   ]
  },
  {
   "cell_type": "markdown",
   "id": "46ae661a",
   "metadata": {},
   "source": [
    "## 1. Import Libraries and Create a Sample CalcSet"
   ]
  },
  {
   "cell_type": "code",
   "execution_count": null,
   "id": "07b74caa",
   "metadata": {},
   "outputs": [],
   "source": [
    "from pollywog.core import CalcSet, Number\n",
    "from pollywog.display import display_calcset\n",
    "\n",
    "# Create a sample CalcSet\n",
    "calcset = CalcSet([\n",
    "    Number(\"Au_est\", [\"[Au] * 0.95\"]),\n",
    "    Number(\"Ag_est\", [\"[Ag] * 0.85\"]),\n",
    "    Number(\"Cu_est\", [\"[Cu] * 0.90\"])\n",
    "])\n",
    "\n",
    "# Display the CalcSet\n",
    "display_calcset(calcset)"
   ]
  },
  {
   "cell_type": "markdown",
   "id": "fdd45f94",
   "metadata": {},
   "source": [
    "## 2. Load Pollywog Magic Extension"
   ]
  },
  {
   "cell_type": "code",
   "execution_count": null,
   "id": "f5c1a742",
   "metadata": {},
   "outputs": [],
   "source": [
    "# Load the pollywog magic extension\n",
    "%load_ext pollywog.magics\n",
    "\n",
    "# Check the current autodownload status\n",
    "%pollywog autodownload status"
   ]
  },
  {
   "cell_type": "markdown",
   "id": "3a546f58",
   "metadata": {},
   "source": [
    "## 3. Enable Autodownload in JupyterLite"
   ]
  },
  {
   "cell_type": "code",
   "execution_count": null,
   "id": "f202bf9a",
   "metadata": {},
   "outputs": [],
   "source": [
    "# Enable autodownload (works only in JupyterLite)\n",
    "%pollywog autodownload on\n",
    "\n",
    "# Verify it's enabled\n",
    "%pollywog autodownload status"
   ]
  },
  {
   "cell_type": "markdown",
   "id": "5347c839",
   "metadata": {},
   "source": [
    "## 4. Export CalcSet with Autodownload\n",
    "\n",
    "When autodownload is enabled in JupyterLite, calling `to_lfcalc()` will automatically trigger a browser download."
   ]
  },
  {
   "cell_type": "code",
   "execution_count": null,
   "id": "e03a6365",
   "metadata": {},
   "outputs": [],
   "source": [
    "# This will automatically download in JupyterLite\n",
    "calcset.to_lfcalc(\"my_calcset.lfcalc\")\n",
    "\n",
    "print(\"File exported! In JupyterLite, this would trigger a download.\")"
   ]
  },
  {
   "cell_type": "markdown",
   "id": "c859ca01",
   "metadata": {},
   "source": [
    "## 5. Manual Download Using Utilities\n",
    "\n",
    "You can also use the download utilities directly for more control."
   ]
  },
  {
   "cell_type": "code",
   "execution_count": null,
   "id": "5a294f4c",
   "metadata": {},
   "outputs": [],
   "source": [
    "from pollywog.jupyterlite_utils import download_file\n",
    "import io\n",
    "\n",
    "# Export to buffer and download manually\n",
    "buffer = io.BytesIO()\n",
    "calcset.to_lfcalc(buffer)\n",
    "download_file(buffer.getvalue(), \"manual_download.lfcalc\", \"application/octet-stream\")\n",
    "\n",
    "print(\"Manual download triggered!\")"
   ]
  },
  {
   "cell_type": "markdown",
   "id": "d0e4ad5a",
   "metadata": {},
   "source": [
    "## 6. Download Other File Types\n",
    "\n",
    "The download utility can handle any file type."
   ]
  },
  {
   "cell_type": "code",
   "execution_count": null,
   "id": "27219873",
   "metadata": {},
   "outputs": [],
   "source": [
    "# Download JSON export\n",
    "json_content = calcset.to_json(indent=2)\n",
    "download_file(json_content, \"calcset.json\", \"application/json\")\n",
    "\n",
    "# Download CSV data (example)\n",
    "csv_data = \"name,value\\nAu_est,0.95\\nAg_est,0.85\\nCu_est,0.90\"\n",
    "download_file(csv_data, \"estimates.csv\", \"text/csv\")\n",
    "\n",
    "print(\"Multiple files downloaded!\")"
   ]
  },
  {
   "cell_type": "markdown",
   "id": "951d76d8",
   "metadata": {},
   "source": [
    "## 7. Disable Autodownload\n",
    "\n",
    "You can turn off autodownload when no longer needed."
   ]
  },
  {
   "cell_type": "code",
   "execution_count": null,
   "id": "5a22a3f5",
   "metadata": {},
   "outputs": [],
   "source": [
    "# Disable autodownload\n",
    "%pollywog autodownload off\n",
    "\n",
    "# Verify it's disabled\n",
    "%pollywog autodownload status\n",
    "\n",
    "print(\"Autodownload disabled. Normal file operations will work as usual.\")"
   ]
  }
 ],
 "metadata": {
  "language_info": {
   "name": "python"
  }
 },
 "nbformat": 4,
 "nbformat_minor": 5
}
