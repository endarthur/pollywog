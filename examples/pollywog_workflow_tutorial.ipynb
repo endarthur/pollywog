{
 "cells": [
  {
   "cell_type": "markdown",
   "id": "8cba46a2",
   "metadata": {},
   "source": [
    "# Pollywog Workflow Tutorial\n",
    "\n",
    "This notebook demonstrates pollywog workflows for mining geometallurgy: preprocessing drillhole data, postprocessing block model grades, modeling recovery with regression trees, using helper functions, and visualizing calculation sets."
   ]
  },
  {
   "cell_type": "markdown",
   "id": "99b775f7",
   "metadata": {},
   "source": [
    "## 1. Preprocessing Drillhole Data\n",
    "\n",
    "Import pollywog and preprocess raw assay data for Au, Ag, and Cu using CalcSet and Number. Export the preprocessing CalcSet for Leapfrog."
   ]
  },
  {
   "cell_type": "code",
   "execution_count": null,
   "id": "eaf0733f",
   "metadata": {},
   "outputs": [],
   "source": [
    "from pollywog.core import CalcSet, Number\n",
    "\n",
    "variables = [\"Au\", \"Ag\", \"Cu\"]\n",
    "preprocess = CalcSet(\n",
    "    [\n",
    "        *[Number(f\"{v}_clean\", [f\"clamp([{v}], 0)\"]) for v in variables],\n",
    "        *[Number(f\"{v}_log\", [f\"log([{v}_clean] + 1e-6)\"]) for v in variables],\n",
    "    ]\n",
    ")\n",
    "\n",
    "# Export for use in Leapfrog (drillholes)\n",
    "preprocess.to_lfcalc(\"drillhole_preprocessing.lfcalc\")"
   ]
  },
  {
   "cell_type": "markdown",
   "id": "28ad3d7f",
   "metadata": {},
   "source": [
    "## 2. Postprocessing Block Model Grades\n",
    "\n",
    "Calculate final grades as weighted averages of domain grades using manual normalization and the WeightedAverage helper. Export both CalcSets for Leapfrog."
   ]
  },
  {
   "cell_type": "code",
   "execution_count": null,
   "id": "091a5726",
   "metadata": {},
   "outputs": [],
   "source": [
    "from pollywog.helpers import WeightedAverage\n",
    "\n",
    "variables = [\"Au\", \"Ag\", \"Cu\"]\n",
    "domains = [\"high\", \"medium\", \"low\"]\n",
    "# Manual normalization\n",
    "postprocess_manual = CalcSet(\n",
    "    [\n",
    "        *[\n",
    "            Number(\n",
    "                f\"{v}_final\",\n",
    "                [\n",
    "                    f\"(({' + '.join([f'[prop_{d}] * [{v}_{d}]' for d in domains])}) / ({' + '.join([f'[prop_{d}]' for d in domains])}))\"\n",
    "                ],\n",
    "            )\n",
    "            for v in variables\n",
    "        ],\n",
    "    ]\n",
    ")\n",
    "# Using WeightedAverage helper\n",
    "postprocess_helper = CalcSet(\n",
    "    [\n",
    "        *[\n",
    "            WeightedAverage(\n",
    "                values=[f\"[{v}_{d}]\" for d in domains],\n",
    "                weights=[f\"[prop_{d}]\" for d in domains],\n",
    "                name=f\"{v}_final_weighted\",\n",
    "            )\n",
    "            for v in variables\n",
    "        ],\n",
    "    ]\n",
    ")\n",
    "\n",
    "# Export for use in Leapfrog (block model)\n",
    "postprocess_manual.to_lfcalc(\"blockmodel_postprocessing_manual.lfcalc\")\n",
    "postprocess_helper.to_lfcalc(\"blockmodel_postprocessing_weighted.lfcalc\")"
   ]
  },
  {
   "cell_type": "markdown",
   "id": "ef7f3085",
   "metadata": {},
   "source": [
    "## 3. Geometallurgical Recovery with Regression Trees\n",
    "\n",
    "Create example data, fit a regression tree for Au recovery, convert the tree to a CalcSet, and add it to the block model CalcSets. Export updated CalcSets."
   ]
  },
  {
   "cell_type": "code",
   "execution_count": null,
   "id": "feb97892",
   "metadata": {},
   "outputs": [],
   "source": [
    "import numpy as np\n",
    "from sklearn.tree import DecisionTreeRegressor\n",
    "from pollywog.conversion.sklearn import convert_tree\n",
    "from pollywog.core import CalcSet\n",
    "\n",
    "# Example data: columns are Au_final, Ag_final, Cu_final\n",
    "X = np.array(\n",
    "    [\n",
    "        [1.2, 5.0, 0.3],\n",
    "        [0.8, 2.5, 0.1],\n",
    "        [2.0, 1.0, 0.5],\n",
    "        [0.5, 3.2, 0.2],\n",
    "        [1.5, 4.1, 0.4],\n",
    "        [0.3, 0.8, 0.05],\n",
    "        [2.5, 2.0, 0.7],\n",
    "        [1.8, 3.5, 0.6],\n",
    "        [0.9, 1.2, 0.2],\n",
    "        [1.0, 2.8, 0.3],\n",
    "    ]\n",
    ")\n",
    "# Example recoveries for Au (could be based on lab tests)\n",
    "y_au = np.array([0.85, 0.78, 0.92, 0.75, 0.88, 0.65, 0.95, 0.90, 0.80, 0.83])\n",
    "\n",
    "# Fit regression tree for Au recovery\n",
    "tree_au = DecisionTreeRegressor(max_depth=3)\n",
    "tree_au.fit(X, y_au)\n",
    "\n",
    "# Convert tree to CalcSet\n",
    "tree_calcset = CalcSet(\n",
    "    convert_tree(\n",
    "        tree_au,\n",
    "        input_names=[\"Au_final\", \"Ag_final\", \"Cu_final\"],\n",
    "        output_name=\"Au_recovery\",\n",
    "    )\n",
    ")\n",
    "\n",
    "# Add recovery calculation to block model calcsets\n",
    "postprocess_manual.items += tree_calcset.items\n",
    "postprocess_helper.items += tree_calcset.items\n",
    "\n",
    "# Export updated block model calcsets\n",
    "postprocess_manual.to_lfcalc(\"blockmodel_postprocessing_with_recovery_manual.lfcalc\")\n",
    "postprocess_helper.to_lfcalc(\"blockmodel_postprocessing_with_recovery_weighted.lfcalc\")"
   ]
  },
  {
   "cell_type": "markdown",
   "id": "cb4de669",
   "metadata": {},
   "source": [
    "## 4. Helper Functions for Block Model Calculations\n",
    "\n",
    "Demonstrate Sum, Product, Normalize, Scale, IfElse, and CategoryFromThresholds helpers. Add them to a CalcSet and export."
   ]
  },
  {
   "cell_type": "code",
   "execution_count": null,
   "id": "04a05801",
   "metadata": {},
   "outputs": [],
   "source": [
    "from pollywog.helpers import (\n",
    "    Sum,\n",
    "    Product,\n",
    "    Normalize,\n",
    "    Scale,\n",
    "    IfElse,\n",
    "    CategoryFromThresholds,\n",
    ")\n",
    "\n",
    "# Sum: Add several variables together\n",
    "sum_example = Sum([\"[Au_final]\", \"[Ag_final]\", \"[Cu_final]\"], name=\"Total_Metals\")\n",
    "\n",
    "# Product: Multiply variables (e.g., grade * recovery)\n",
    "product_example = Product([\"[Au_final]\", \"[Au_recovery]\"], name=\"Au_payable\")\n",
    "\n",
    "# Normalize: Normalize proportions so they sum to 1\n",
    "normalize_example = Normalize(\n",
    "    [\"[prop_high]\", \"[prop_medium]\", \"[prop_low]\"], name=\"DomainProportionsNorm\"\n",
    ")\n",
    "\n",
    "# Scale: Apply a scaling factor to a variable\n",
    "scale_example = Scale(\"[Au_final]\", 0.95, name=\"Au_final_scaled\")\n",
    "\n",
    "# IfElse: Conditional logic (e.g., flag blocks above cutoff)\n",
    "ifelse_example = IfElse(\n",
    "    \"[Au_final] > 0.5\", then=\"'Ore'\", else_=\"'Waste'\", name=\"OreFlag\"\n",
    ")\n",
    "\n",
    "# CategoryFromThresholds: Categorize based on thresholds\n",
    "cat_example = CategoryFromThresholds(\n",
    "    value=\"[Au_final]\",\n",
    "    thresholds=[0.3, 1.0],\n",
    "    categories=[\"Low\", \"Medium\", \"High\"],\n",
    "    name=\"AuCategory\",\n",
    ")\n",
    "\n",
    "# Add these to a CalcSet and export\n",
    "helpers_calcset = CalcSet(\n",
    "    [\n",
    "        sum_example,\n",
    "        product_example,\n",
    "        normalize_example,\n",
    "        scale_example,\n",
    "        ifelse_example,\n",
    "        cat_example,\n",
    "    ]\n",
    ")\n",
    "helpers_calcset.to_lfcalc(\"blockmodel_helpers_examples.lfcalc\")"
   ]
  },
  {
   "cell_type": "markdown",
   "id": "22b316aa",
   "metadata": {},
   "source": [
    "## 5. Visualization of CalcSets\n",
    "\n",
    "Visualize any CalcSet in Jupyter using pollywog.display functions."
   ]
  },
  {
   "cell_type": "code",
   "execution_count": null,
   "id": "c20a4bb6",
   "metadata": {},
   "outputs": [],
   "source": [
    "from pollywog.display import display_calcset, set_theme\n",
    "\n",
    "set_theme(\"light\")\n",
    "display_calcset(preprocess)\n",
    "display_calcset(postprocess_manual)\n",
    "display_calcset(postprocess_helper)\n",
    "display_calcset(helpers_calcset)"
   ]
  }
 ],
 "metadata": {
  "language_info": {
   "name": "python"
  }
 },
 "nbformat": 4,
 "nbformat_minor": 5
}
