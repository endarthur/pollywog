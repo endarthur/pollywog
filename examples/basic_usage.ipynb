{
 "cells": [
  {
   "cell_type": "code",
   "execution_count": 1,
   "id": "cfcb9a64",
   "metadata": {
    "execution": {
     "iopub.execute_input": "2025-10-09T00:42:11.033528Z",
     "iopub.status.busy": "2025-10-09T00:42:11.033528Z",
     "iopub.status.idle": "2025-10-09T00:42:11.042598Z",
     "shell.execute_reply": "2025-10-09T00:42:11.042598Z"
    }
   },
   "outputs": [],
   "source": [
    "import sys\n",
    "\n",
    "p = \"..\"\n",
    "if p not in sys.path:\n",
    "    sys.path.insert(0, p)\n",
    "\n",
    "import pollywog as pw"
   ]
  },
  {
   "cell_type": "markdown",
   "id": "eb123275",
   "metadata": {},
   "source": [
    "# Pollywog Basic Usage Example\n",
    "\n",
    "This notebook demonstrates how to use the `pollywog` library to create, read, and write Leapfrog calculation sets (`.lfcalc` files)."
   ]
  },
  {
   "cell_type": "markdown",
   "id": "a1e88c93",
   "metadata": {},
   "source": [
    "## 1. Creating a Calculation Set\n",
    "\n",
    "Let's create a simple calculation set with a numeric calculation using `pollywog`. "
   ]
  },
  {
   "cell_type": "code",
   "execution_count": 2,
   "id": "18b74f9a",
   "metadata": {
    "execution": {
     "iopub.execute_input": "2025-10-09T00:42:11.043611Z",
     "iopub.status.busy": "2025-10-09T00:42:11.043611Z",
     "iopub.status.idle": "2025-10-09T00:42:11.049384Z",
     "shell.execute_reply": "2025-10-09T00:42:11.049384Z"
    }
   },
   "outputs": [
    {
     "data": {
      "text/plain": [
       "{'type': 'calculation-set',\n",
       " 'items': [{'type': 'calculation',\n",
       "   'name': 'example_num',\n",
       "   'equation': {'type': 'equation',\n",
       "    'comment': '',\n",
       "    'statement': {'type': 'list', 'children': ['2 + 2']}},\n",
       "   'comment': '',\n",
       "   'calculation_type': 'number'}]}"
      ]
     },
     "execution_count": 2,
     "metadata": {},
     "output_type": "execute_result"
    }
   ],
   "source": [
    "from pollywog.core import CalcSet, Number\n",
    "\n",
    "# Create a simple numeric calculation\n",
    "num = Number(name=\"example_num\", children=[\"2 + 2\"])\n",
    "calcset = CalcSet([num])\n",
    "\n",
    "# Show the calculation set as a dictionary\n",
    "calcset_dict = calcset.to_dict()\n",
    "calcset_dict"
   ]
  },
  {
   "cell_type": "markdown",
   "id": "3bf91e4f",
   "metadata": {},
   "source": [
    "## 2. Writing to a Leapfrog .lfcalc File\n",
    "\n",
    "You can write the calculation set to a Leapfrog `.lfcalc` file using the `to_lfcalc` method."
   ]
  },
  {
   "cell_type": "code",
   "execution_count": 3,
   "id": "b0c83600",
   "metadata": {
    "execution": {
     "iopub.execute_input": "2025-10-09T00:42:11.051594Z",
     "iopub.status.busy": "2025-10-09T00:42:11.051594Z",
     "iopub.status.idle": "2025-10-09T00:42:11.055603Z",
     "shell.execute_reply": "2025-10-09T00:42:11.055603Z"
    }
   },
   "outputs": [
    {
     "name": "stdout",
     "output_type": "stream",
     "text": [
      "Wrote example.lfcalc!\n"
     ]
    }
   ],
   "source": [
    "# Write the calculation set to a file\n",
    "calcset.to_lfcalc(\"example.lfcalc\")\n",
    "print(\"Wrote example.lfcalc!\")"
   ]
  },
  {
   "cell_type": "markdown",
   "id": "585f030b",
   "metadata": {},
   "source": [
    "## 3. Reading a Leapfrog .lfcalc File\n",
    "\n",
    "You can read a `.lfcalc` file back into a `CalcSet` object."
   ]
  },
  {
   "cell_type": "code",
   "execution_count": 4,
   "id": "3831de12",
   "metadata": {
    "execution": {
     "iopub.execute_input": "2025-10-09T00:42:11.056824Z",
     "iopub.status.busy": "2025-10-09T00:42:11.056824Z",
     "iopub.status.idle": "2025-10-09T00:42:11.060296Z",
     "shell.execute_reply": "2025-10-09T00:42:11.060296Z"
    }
   },
   "outputs": [
    {
     "name": "stdout",
     "output_type": "stream",
     "text": [
      "{\n",
      "  \"type\": \"calculation-set\",\n",
      "  \"items\": [\n",
      "    {\n",
      "      \"type\": \"calculation\",\n",
      "      \"name\": \"example_num\",\n",
      "      \"equation\": {\n",
      "        \"type\": \"equation\",\n",
      "        \"comment\": \"\",\n",
      "        \"statement\": {\n",
      "          \"type\": \"list\",\n",
      "          \"children\": [\n",
      "            \"2 + 2\"\n",
      "          ]\n",
      "        }\n",
      "      },\n",
      "      \"comment\": \"\",\n",
      "      \"calculation_type\": \"number\"\n",
      "    }\n",
      "  ]\n",
      "}\n"
     ]
    }
   ],
   "source": [
    "# Read the calculation set from the file\n",
    "calcset2 = CalcSet.read_lfcalc(\"example.lfcalc\")\n",
    "print(calcset2)"
   ]
  },
  {
   "cell_type": "markdown",
   "id": "a8d8e786",
   "metadata": {},
   "source": [
    "## 4. Postprocessing Variable Estimates\n",
    "\n",
    "Suppose you have a set of estimated variables from Leapfrog and want to postprocess them, e.g., clip negative values and save the results to new variables with the suffix `_final`. This example shows how to automate that using `pollywog`."
   ]
  },
  {
   "cell_type": "code",
   "execution_count": 5,
   "id": "500f83c7",
   "metadata": {
    "execution": {
     "iopub.execute_input": "2025-10-09T00:42:11.061829Z",
     "iopub.status.busy": "2025-10-09T00:42:11.061829Z",
     "iopub.status.idle": "2025-10-09T00:42:11.066878Z",
     "shell.execute_reply": "2025-10-09T00:42:11.066878Z"
    }
   },
   "outputs": [
    {
     "name": "stdout",
     "output_type": "stream",
     "text": [
      "Wrote postprocessed.lfcalc!\n"
     ]
    },
    {
     "data": {
      "text/plain": [
       "{'type': 'calculation-set',\n",
       " 'items': [{'type': 'calculation',\n",
       "   'name': 'Ag_est_corr',\n",
       "   'equation': {'type': 'equation',\n",
       "    'comment': '',\n",
       "    'statement': {'type': 'list', 'children': ['clamp([Ag_est], 0.01)']}},\n",
       "   'comment': '',\n",
       "   'calculation_type': 'number'},\n",
       "  {'type': 'calculation',\n",
       "   'name': 'Au_est_corr',\n",
       "   'equation': {'type': 'equation',\n",
       "    'comment': '',\n",
       "    'statement': {'type': 'list', 'children': ['clamp([Au_est], 0.01)']}},\n",
       "   'comment': '',\n",
       "   'calculation_type': 'number'},\n",
       "  {'type': 'calculation',\n",
       "   'name': 'Cu_est_corr',\n",
       "   'equation': {'type': 'equation',\n",
       "    'comment': '',\n",
       "    'statement': {'type': 'list', 'children': ['clamp([Cu_est], 0.01)']}},\n",
       "   'comment': '',\n",
       "   'calculation_type': 'number'},\n",
       "  {'type': 'calculation',\n",
       "   'name': 'Fe_est_corr',\n",
       "   'equation': {'type': 'equation',\n",
       "    'comment': '',\n",
       "    'statement': {'type': 'list', 'children': ['clamp([Fe_est], 0.01)']}},\n",
       "   'comment': '',\n",
       "   'calculation_type': 'number'},\n",
       "  {'type': 'calculation',\n",
       "   'name': 'Pb_est_corr',\n",
       "   'equation': {'type': 'equation',\n",
       "    'comment': '',\n",
       "    'statement': {'type': 'list', 'children': ['clamp([Pb_est], 0.01)']}},\n",
       "   'comment': '',\n",
       "   'calculation_type': 'number'},\n",
       "  {'type': 'calculation',\n",
       "   'name': 'Zn_est_corr',\n",
       "   'equation': {'type': 'equation',\n",
       "    'comment': '',\n",
       "    'statement': {'type': 'list', 'children': ['clamp([Zn_est], 0.01)']}},\n",
       "   'comment': '',\n",
       "   'calculation_type': 'number'}]}"
      ]
     },
     "execution_count": 5,
     "metadata": {},
     "output_type": "execute_result"
    }
   ],
   "source": [
    "# List of estimated variable names from Leapfrog\n",
    "variables = [\"Ag_est\", \"Au_est\", \"Cu_est\", \"Fe_est\", \"Pb_est\", \"Zn_est\"]\n",
    "\n",
    "# Postprocess: clip negative values and save to new variables\n",
    "from pollywog.core import CalcSet, Number\n",
    "\n",
    "postprocessed = [\n",
    "    Number(name=f\"{v}_corr\", children=[f\"clamp([{v}], 0.01)\"]) for v in variables\n",
    "]\n",
    "\n",
    "calcset_post = CalcSet(postprocessed)\n",
    "calcset_post.to_lfcalc(\"postprocessed.lfcalc\")\n",
    "print(\"Wrote postprocessed.lfcalc!\")\n",
    "\n",
    "# Show the postprocessed calculation set\n",
    "calcset_post.to_dict()"
   ]
  },
  {
   "cell_type": "markdown",
   "id": "554b0ca3",
   "metadata": {},
   "source": [
    "## 5. Estimating Dilution by Domain Proportions\n",
    "\n",
    "Suppose each block has estimated variables for several domains (e.g., LG, HG, waste) and you know the proportion of each domain in each block. You can calculate the final diluted variable as a weighted sum of the domain estimates using their proportions."
   ]
  },
  {
   "cell_type": "code",
   "execution_count": 6,
   "id": "bd42f46a",
   "metadata": {
    "execution": {
     "iopub.execute_input": "2025-10-09T00:42:11.068117Z",
     "iopub.status.busy": "2025-10-09T00:42:11.068117Z",
     "iopub.status.idle": "2025-10-09T00:42:11.074191Z",
     "shell.execute_reply": "2025-10-09T00:42:11.073878Z"
    }
   },
   "outputs": [
    {
     "name": "stdout",
     "output_type": "stream",
     "text": [
      "Wrote weighted_final.lfcalc!\n"
     ]
    },
    {
     "data": {
      "text/plain": [
       "{'type': 'calculation-set',\n",
       " 'items': [{'type': 'calculation',\n",
       "   'name': 'Ag_final',\n",
       "   'equation': {'type': 'equation',\n",
       "    'comment': '',\n",
       "    'statement': {'type': 'list',\n",
       "     'children': ['([Ag_LG] * [prop_LG]*[density] + [Ag_HG] * [prop_HG]*[density] + [Ag_waste] * [prop_waste]*[density])/([prop_LG]*[density]+[prop_HG]*[density]+[prop_waste]*[density])']}},\n",
       "   'comment': '',\n",
       "   'calculation_type': 'number'},\n",
       "  {'type': 'calculation',\n",
       "   'name': 'Au_final',\n",
       "   'equation': {'type': 'equation',\n",
       "    'comment': '',\n",
       "    'statement': {'type': 'list',\n",
       "     'children': ['([Au_LG] * [prop_LG]*[density] + [Au_HG] * [prop_HG]*[density] + [Au_waste] * [prop_waste]*[density])/([prop_LG]*[density]+[prop_HG]*[density]+[prop_waste]*[density])']}},\n",
       "   'comment': '',\n",
       "   'calculation_type': 'number'},\n",
       "  {'type': 'calculation',\n",
       "   'name': 'Cu_final',\n",
       "   'equation': {'type': 'equation',\n",
       "    'comment': '',\n",
       "    'statement': {'type': 'list',\n",
       "     'children': ['([Cu_LG] * [prop_LG]*[density] + [Cu_HG] * [prop_HG]*[density] + [Cu_waste] * [prop_waste]*[density])/([prop_LG]*[density]+[prop_HG]*[density]+[prop_waste]*[density])']}},\n",
       "   'comment': '',\n",
       "   'calculation_type': 'number'}]}"
      ]
     },
     "execution_count": 6,
     "metadata": {},
     "output_type": "execute_result"
    }
   ],
   "source": [
    "# Example variable names and domains\n",
    "variables = [\"Ag\", \"Au\", \"Cu\"]\n",
    "domains = [\"LG\", \"HG\", \"waste\"]\n",
    "\n",
    "# For each block, Leapfrog provides:\n",
    "# - estimated value for each variable in each domain (e.g., Ag_LG, Ag_HG, Ag_waste)\n",
    "# - proportion of each domain in the block (e.g., prop_LG, prop_HG, prop_waste)\n",
    "\n",
    "# We'll create final variables as weighted sums:\n",
    "# Ag_final = Ag_LG * prop_LG + Ag_HG * prop_HG + Ag_waste * prop_waste\n",
    "\n",
    "from pollywog.core import CalcSet, Number\n",
    "\n",
    "weighted_vars = []\n",
    "for v in variables:\n",
    "    expr = (\n",
    "        \"(\"\n",
    "        + \" + \".join([f\"[{v}_{d}] * [prop_{d}]*[density]\" for d in domains])\n",
    "        + \")/(\"\n",
    "        + \"+\".join([f\"[prop_{d}]*[density]\" for d in domains])\n",
    "        + \")\"\n",
    "    )\n",
    "    weighted_vars.append(Number(name=f\"{v}_final\", children=[expr]))\n",
    "\n",
    "calcset_weighted = CalcSet(weighted_vars)\n",
    "calcset_weighted.to_lfcalc(\"weighted_final.lfcalc\")\n",
    "print(\"Wrote weighted_final.lfcalc!\")\n",
    "\n",
    "# Show the weighted calculation set\n",
    "display_dict = calcset_weighted.to_dict()\n",
    "display_dict"
   ]
  },
  {
   "cell_type": "markdown",
   "id": "36a9367e",
   "metadata": {},
   "source": [
    "## 6. Further Postprocessing Examples\n",
    "\n",
    "This section demonstrates several useful postprocessing steps:\n",
    "- Thresholding for ore/waste classification\n",
    "- Composite variables\n",
    "- Conditional logic\n",
    "- Recovery adjustment\n",
    "- Economic value calculation"
   ]
  },
  {
   "cell_type": "code",
   "execution_count": 7,
   "id": "04a44d41",
   "metadata": {
    "execution": {
     "iopub.execute_input": "2025-10-09T00:42:11.075233Z",
     "iopub.status.busy": "2025-10-09T00:42:11.075233Z",
     "iopub.status.idle": "2025-10-09T00:42:11.080931Z",
     "shell.execute_reply": "2025-10-09T00:42:11.080931Z"
    }
   },
   "outputs": [
    {
     "name": "stdout",
     "output_type": "stream",
     "text": [
      "Wrote block_value.lfcalc!\n"
     ]
    },
    {
     "data": {
      "text/plain": [
       "{'type': 'calculation-set',\n",
       " 'items': [{'type': 'calculation',\n",
       "   'name': 'Cu_equiv',\n",
       "   'equation': {'type': 'equation',\n",
       "    'comment': '',\n",
       "    'statement': {'type': 'list',\n",
       "     'children': ['[Ag_final] * 2 + [Au_final] * 31 + [Cu_final] * 1']}},\n",
       "   'comment': '',\n",
       "   'calculation_type': 'number'},\n",
       "  {'type': 'filter',\n",
       "   'name': 'Ag_is_ore',\n",
       "   'equation': {'type': 'equation',\n",
       "    'comment': '',\n",
       "    'statement': {'type': 'list', 'children': ['[Ag_final] > 5']}},\n",
       "   'comment': ''},\n",
       "  {'type': 'filter',\n",
       "   'name': 'Au_is_ore',\n",
       "   'equation': {'type': 'equation',\n",
       "    'comment': '',\n",
       "    'statement': {'type': 'list', 'children': ['[Au_final] > 0.5']}},\n",
       "   'comment': ''},\n",
       "  {'type': 'filter',\n",
       "   'name': 'Cu_is_ore',\n",
       "   'equation': {'type': 'equation',\n",
       "    'comment': '',\n",
       "    'statement': {'type': 'list', 'children': ['[Cu_final] > 0.2']}},\n",
       "   'comment': ''}]}"
      ]
     },
     "execution_count": 7,
     "metadata": {},
     "output_type": "execute_result"
    }
   ],
   "source": [
    "# Example variables and parameters\n",
    "variables = [\"Ag\", \"Au\", \"Cu\"]\n",
    "cutoffs = {\"Ag\": 5, \"Au\": 0.5, \"Cu\": 0.2}  # ppm or %\n",
    "prices = {\"Ag\": 25, \"Au\": 2000, \"Cu\": 8}  # $/unit\n",
    "equivalents = {\"Ag\": 2, \"Au\": 31, \"Cu\": 1}  # for metal equivalence\n",
    "cost = 50  # $/block\n",
    "\n",
    "from pollywog.core import CalcSet, Number, Filter, If\n",
    "\n",
    "post_items = []\n",
    "\n",
    "# 1. Thresholding for ore/waste classification\n",
    "for v in variables:\n",
    "    post_items.append(\n",
    "        Filter(name=f\"{v}_is_ore\", children=[f\"[{v}_final] > {cutoffs[v]}\"])\n",
    "    )\n",
    "\n",
    "# 2. Equivalent copper calculation\n",
    "post_items.append(\n",
    "    Number(\n",
    "        name=\"Cu_equiv\",\n",
    "        children=[\n",
    "            \" + \".join(\n",
    "                [\n",
    "                    f\"[{v}_final] * {equivalents[v]}\"\n",
    "                    for v in variables\n",
    "                    if v in equivalents\n",
    "                ]\n",
    "            )\n",
    "        ],\n",
    "    )\n",
    ")\n",
    "\n",
    "calcset_post2 = CalcSet(post_items)\n",
    "calcset_post2.to_lfcalc(\"block_value.lfcalc\")\n",
    "print(\"Wrote block_value.lfcalc!\")\n",
    "calcset_post2.to_dict()"
   ]
  },
  {
   "cell_type": "markdown",
   "id": "608e79f7",
   "metadata": {},
   "source": [
    "## 7. Using a Scikit-learn Regression Tree for Recovery\n",
    "\n",
    "You can fit a regression tree model in scikit-learn and convert it to Leapfrog calculation format using `pollywog`. This allows you to use machine learning models for block recovery or other predictions directly in Leapfrog."
   ]
  },
  {
   "cell_type": "code",
   "execution_count": 8,
   "id": "baf3e979",
   "metadata": {
    "execution": {
     "iopub.execute_input": "2025-10-09T00:42:11.082509Z",
     "iopub.status.busy": "2025-10-09T00:42:11.082509Z",
     "iopub.status.idle": "2025-10-09T00:42:12.832059Z",
     "shell.execute_reply": "2025-10-09T00:42:12.832059Z"
    }
   },
   "outputs": [
    {
     "data": {
      "image/png": "[encoded data removed]",
      "text/plain": [
       "<Figure size 1000x500 with 1 Axes>"
      ]
     },
     "metadata": {},
     "output_type": "display_data"
    },
    {
     "name": "stdout",
     "output_type": "stream",
     "text": [
      "Wrote recovery_ml.lfcalc!\n"
     ]
    },
    {
     "data": {
      "text/plain": [
       "{'type': 'calculation-set',\n",
       " 'items': [{'type': 'calculation',\n",
       "   'name': 'recovery_ml',\n",
       "   'equation': {'type': 'equation',\n",
       "    'comment': 'Converted from DecisionTreeRegressor',\n",
       "    'statement': {'type': 'list',\n",
       "     'children': ['',\n",
       "      {'type': 'if',\n",
       "       'rows': [{'type': 'if_row',\n",
       "         'test': {'type': 'list',\n",
       "          'children': ['[Cu_final] <= 0.5000000149011612']},\n",
       "         'result': {'type': 'list',\n",
       "          'children': ['',\n",
       "           {'type': 'if',\n",
       "            'rows': [{'type': 'if_row',\n",
       "              'test': {'type': 'list',\n",
       "               'children': ['[Cu_final] <= 0.20000000298023224']},\n",
       "              'result': {'type': 'list', 'children': ['0.7']}}],\n",
       "            'otherwise': {'type': 'list',\n",
       "             'children': ['',\n",
       "              {'type': 'if',\n",
       "               'rows': [{'type': 'if_row',\n",
       "                 'test': {'type': 'list',\n",
       "                  'children': ['[Cu_final] <= 0.32500000298023224']},\n",
       "                 'result': {'type': 'list', 'children': ['0.75']}}],\n",
       "               'otherwise': {'type': 'list', 'children': ['0.8']}},\n",
       "              '']}},\n",
       "           '']}}],\n",
       "       'otherwise': {'type': 'list',\n",
       "        'children': ['',\n",
       "         {'type': 'if',\n",
       "          'rows': [{'type': 'if_row',\n",
       "            'test': {'type': 'list', 'children': ['[Au_final] <= 3.5']},\n",
       "            'result': {'type': 'list',\n",
       "             'children': ['',\n",
       "              {'type': 'if',\n",
       "               'rows': [{'type': 'if_row',\n",
       "                 'test': {'type': 'list', 'children': ['[Ag_final] <= 80.0']},\n",
       "                 'result': {'type': 'list', 'children': ['0.865']}}],\n",
       "               'otherwise': {'type': 'list', 'children': ['0.91']}},\n",
       "              '']}}],\n",
       "          'otherwise': {'type': 'list',\n",
       "           'children': ['',\n",
       "            {'type': 'if',\n",
       "             'rows': [{'type': 'if_row',\n",
       "               'test': {'type': 'list', 'children': ['[Cu_final] <= 2.25']},\n",
       "               'result': {'type': 'list', 'children': ['0.96']}}],\n",
       "             'otherwise': {'type': 'list', 'children': ['0.99']}},\n",
       "            '']}},\n",
       "         '']}},\n",
       "      '']}},\n",
       "   'comment': '',\n",
       "   'calculation_type': 'number'}]}"
      ]
     },
     "execution_count": 8,
     "metadata": {},
     "output_type": "execute_result"
    }
   ],
   "source": [
    "# Fit a regression tree for recovery prediction\n",
    "import numpy as np\n",
    "from sklearn.tree import DecisionTreeRegressor\n",
    "import matplotlib.pyplot as plt\n",
    "from sklearn.tree import plot_tree\n",
    "\n",
    "from pollywog.conversion.sklearn import convert_tree\n",
    "\n",
    "# Synthetic training data: features are block grades, target is recovery\n",
    "# More realistic grade ranges (Cu in %, Au in g/t, Ag in g/t)\n",
    "X = np.array(\n",
    "    [\n",
    "        [0.15, 0.3, 10],  # low Cu, low Au, low Ag\n",
    "        [0.25, 0.5, 20],  # moderate Cu, moderate Au, moderate Ag\n",
    "        [0.4, 1.0, 30],  # higher Cu, moderate Au, moderate Ag\n",
    "        [0.6, 1.5, 50],  # high Cu, higher Au, higher Ag\n",
    "        [0.8, 2.0, 70],  # very high Cu, high Au, high Ag\n",
    "        [1.0, 2.5, 90],  # very high Cu, very high Au, very high Ag\n",
    "        [1.2, 3.0, 120],  # extremely high Cu, very high Au, very high Ag\n",
    "        [1.5, 4.0, 150],  # exceptional Cu, exceptional Au, exceptional Ag\n",
    "        [2.0, 5.0, 200],  # rare high Cu, rare high Au, rare high Ag\n",
    "        [2.5, 6.0, 250],  # extreme grades\n",
    "    ]\n",
    ")\n",
    "y = np.array([0.7, 0.75, 0.8, 0.85, 0.88, 0.9, 0.92, 0.95, 0.97, 0.99])\n",
    "feature_names = [\"Cu_final\", \"Au_final\", \"Ag_final\"]\n",
    "\n",
    "# Train the tree\n",
    "reg = DecisionTreeRegressor(max_depth=3)\n",
    "reg.fit(X, y)\n",
    "\n",
    "# Visualize the tree\n",
    "plt.figure(figsize=(10, 5))\n",
    "plot_tree(reg, feature_names=feature_names, filled=True, rounded=True)\n",
    "plt.title(\"Regression Tree for Recovery Prediction\")\n",
    "plt.show()\n",
    "\n",
    "# Convert to Leapfrog calculation\n",
    "recovery_calc = convert_tree(reg, feature_names, \"recovery_ml\")\n",
    "\n",
    "# Add to workflow and save\n",
    "calcset_ml = CalcSet([recovery_calc])\n",
    "calcset_ml.to_lfcalc(\"recovery_ml.lfcalc\")\n",
    "print(\"Wrote recovery_ml.lfcalc!\")\n",
    "calcset_ml.to_dict()"
   ]
  },
  {
   "cell_type": "markdown",
   "id": "3b00ceff",
   "metadata": {},
   "source": [
    "### Combining Multiple CalcSets for a Final Workflow\n",
    "\n",
    "You can concatenate multiple `CalcSet` objects using the `+` operator to build a final calculation set that includes all your postprocessing steps and machine learning recovery."
   ]
  },
  {
   "cell_type": "code",
   "execution_count": 9,
   "id": "c9fbe171",
   "metadata": {
    "execution": {
     "iopub.execute_input": "2025-10-09T00:42:12.834667Z",
     "iopub.status.busy": "2025-10-09T00:42:12.834667Z",
     "iopub.status.idle": "2025-10-09T00:42:12.844686Z",
     "shell.execute_reply": "2025-10-09T00:42:12.844686Z"
    }
   },
   "outputs": [
    {
     "name": "stdout",
     "output_type": "stream",
     "text": [
      "Wrote final_workflow_with_conditional.lfcalc!\n"
     ]
    },
    {
     "data": {
      "text/plain": [
       "{'type': 'calculation-set',\n",
       " 'items': [{'type': 'calculation',\n",
       "   'name': 'Ag_final',\n",
       "   'equation': {'type': 'equation',\n",
       "    'comment': '',\n",
       "    'statement': {'type': 'list',\n",
       "     'children': ['([Ag_LG] * [prop_LG]*[density] + [Ag_HG] * [prop_HG]*[density] + [Ag_waste] * [prop_waste]*[density])/([prop_LG]*[density]+[prop_HG]*[density]+[prop_waste]*[density])']}},\n",
       "   'comment': '',\n",
       "   'calculation_type': 'number'},\n",
       "  {'type': 'calculation',\n",
       "   'name': 'Au_final',\n",
       "   'equation': {'type': 'equation',\n",
       "    'comment': '',\n",
       "    'statement': {'type': 'list',\n",
       "     'children': ['([Au_LG] * [prop_LG]*[density] + [Au_HG] * [prop_HG]*[density] + [Au_waste] * [prop_waste]*[density])/([prop_LG]*[density]+[prop_HG]*[density]+[prop_waste]*[density])']}},\n",
       "   'comment': '',\n",
       "   'calculation_type': 'number'},\n",
       "  {'type': 'calculation',\n",
       "   'name': 'Cu_final',\n",
       "   'equation': {'type': 'equation',\n",
       "    'comment': '',\n",
       "    'statement': {'type': 'list',\n",
       "     'children': ['([Cu_LG] * [prop_LG]*[density] + [Cu_HG] * [prop_HG]*[density] + [Cu_waste] * [prop_waste]*[density])/([prop_LG]*[density]+[prop_HG]*[density]+[prop_waste]*[density])']}},\n",
       "   'comment': '',\n",
       "   'calculation_type': 'number'},\n",
       "  {'type': 'calculation',\n",
       "   'name': 'Cu_equiv',\n",
       "   'equation': {'type': 'equation',\n",
       "    'comment': '',\n",
       "    'statement': {'type': 'list',\n",
       "     'children': ['[Ag_final] * 2 + [Au_final] * 31 + [Cu_final] * 1']}},\n",
       "   'comment': '',\n",
       "   'calculation_type': 'number'},\n",
       "  {'type': 'calculation',\n",
       "   'name': 'recovery_ml',\n",
       "   'equation': {'type': 'equation',\n",
       "    'comment': 'Converted from DecisionTreeRegressor',\n",
       "    'statement': {'type': 'list',\n",
       "     'children': ['',\n",
       "      {'type': 'if',\n",
       "       'rows': [{'type': 'if_row',\n",
       "         'test': {'type': 'list',\n",
       "          'children': ['[Cu_final] <= 0.5000000149011612']},\n",
       "         'result': {'type': 'list',\n",
       "          'children': ['',\n",
       "           {'type': 'if',\n",
       "            'rows': [{'type': 'if_row',\n",
       "              'test': {'type': 'list',\n",
       "               'children': ['[Cu_final] <= 0.20000000298023224']},\n",
       "              'result': {'type': 'list', 'children': ['0.7']}}],\n",
       "            'otherwise': {'type': 'list',\n",
       "             'children': ['',\n",
       "              {'type': 'if',\n",
       "               'rows': [{'type': 'if_row',\n",
       "                 'test': {'type': 'list',\n",
       "                  'children': ['[Cu_final] <= 0.32500000298023224']},\n",
       "                 'result': {'type': 'list', 'children': ['0.75']}}],\n",
       "               'otherwise': {'type': 'list', 'children': ['0.8']}},\n",
       "              '']}},\n",
       "           '']}}],\n",
       "       'otherwise': {'type': 'list',\n",
       "        'children': ['',\n",
       "         {'type': 'if',\n",
       "          'rows': [{'type': 'if_row',\n",
       "            'test': {'type': 'list', 'children': ['[Au_final] <= 3.5']},\n",
       "            'result': {'type': 'list',\n",
       "             'children': ['',\n",
       "              {'type': 'if',\n",
       "               'rows': [{'type': 'if_row',\n",
       "                 'test': {'type': 'list', 'children': ['[Ag_final] <= 80.0']},\n",
       "                 'result': {'type': 'list', 'children': ['0.865']}}],\n",
       "               'otherwise': {'type': 'list', 'children': ['0.91']}},\n",
       "              '']}}],\n",
       "          'otherwise': {'type': 'list',\n",
       "           'children': ['',\n",
       "            {'type': 'if',\n",
       "             'rows': [{'type': 'if_row',\n",
       "               'test': {'type': 'list', 'children': ['[Cu_final] <= 2.25']},\n",
       "               'result': {'type': 'list', 'children': ['0.96']}}],\n",
       "             'otherwise': {'type': 'list', 'children': ['0.99']}},\n",
       "            '']}},\n",
       "         '']}},\n",
       "      '']}},\n",
       "   'comment': '',\n",
       "   'calculation_type': 'number'},\n",
       "  {'type': 'calculation',\n",
       "   'name': 'Ag_recovered',\n",
       "   'equation': {'type': 'equation',\n",
       "    'comment': '',\n",
       "    'statement': {'type': 'list',\n",
       "     'children': ['',\n",
       "      {'type': 'if',\n",
       "       'rows': [{'type': 'if_row',\n",
       "         'test': {'type': 'list', 'children': ['[Ag_is_ore]']},\n",
       "         'result': {'type': 'list',\n",
       "          'children': ['[Ag_final] * [recovery_ml]']}}],\n",
       "       'otherwise': {'type': 'list', 'children': ['0']}},\n",
       "      '']}},\n",
       "   'comment': '',\n",
       "   'calculation_type': 'number'},\n",
       "  {'type': 'calculation',\n",
       "   'name': 'Au_recovered',\n",
       "   'equation': {'type': 'equation',\n",
       "    'comment': '',\n",
       "    'statement': {'type': 'list',\n",
       "     'children': ['',\n",
       "      {'type': 'if',\n",
       "       'rows': [{'type': 'if_row',\n",
       "         'test': {'type': 'list', 'children': ['[Au_is_ore]']},\n",
       "         'result': {'type': 'list',\n",
       "          'children': ['[Au_final] * [recovery_ml]']}}],\n",
       "       'otherwise': {'type': 'list', 'children': ['0']}},\n",
       "      '']}},\n",
       "   'comment': '',\n",
       "   'calculation_type': 'number'},\n",
       "  {'type': 'calculation',\n",
       "   'name': 'Cu_recovered',\n",
       "   'equation': {'type': 'equation',\n",
       "    'comment': '',\n",
       "    'statement': {'type': 'list',\n",
       "     'children': ['',\n",
       "      {'type': 'if',\n",
       "       'rows': [{'type': 'if_row',\n",
       "         'test': {'type': 'list', 'children': ['[Cu_is_ore]']},\n",
       "         'result': {'type': 'list',\n",
       "          'children': ['[Cu_final] * [recovery_ml]']}}],\n",
       "       'otherwise': {'type': 'list', 'children': ['0']}},\n",
       "      '']}},\n",
       "   'comment': '',\n",
       "   'calculation_type': 'number'},\n",
       "  {'type': 'calculation',\n",
       "   'name': 'block_value',\n",
       "   'equation': {'type': 'equation',\n",
       "    'comment': '',\n",
       "    'statement': {'type': 'list',\n",
       "     'children': ['[Ag_recovered] * 25 + [Au_recovered] * 2000 + [Cu_recovered] * 8 - 50']}},\n",
       "   'comment': '',\n",
       "   'calculation_type': 'number'},\n",
       "  {'type': 'filter',\n",
       "   'name': 'Ag_is_ore',\n",
       "   'equation': {'type': 'equation',\n",
       "    'comment': '',\n",
       "    'statement': {'type': 'list', 'children': ['[Ag_final] > 5']}},\n",
       "   'comment': ''},\n",
       "  {'type': 'filter',\n",
       "   'name': 'Au_is_ore',\n",
       "   'equation': {'type': 'equation',\n",
       "    'comment': '',\n",
       "    'statement': {'type': 'list', 'children': ['[Au_final] > 0.5']}},\n",
       "   'comment': ''},\n",
       "  {'type': 'filter',\n",
       "   'name': 'Cu_is_ore',\n",
       "   'equation': {'type': 'equation',\n",
       "    'comment': '',\n",
       "    'statement': {'type': 'list', 'children': ['[Cu_final] > 0.2']}},\n",
       "   'comment': ''}]}"
      ]
     },
     "execution_count": 9,
     "metadata": {},
     "output_type": "execute_result"
    }
   ],
   "source": [
    "from pollywog.core import CalcSet, Number, If\n",
    "\n",
    "\n",
    "value_expr = (\n",
    "    \" + \".join([f\"[{v}_recovered] * {prices[v]}\" for v in variables]) + f\" - {cost}\"\n",
    ")\n",
    "\n",
    "calcset_conditional = CalcSet(\n",
    "    [\n",
    "        Number(\n",
    "            f\"{v}_recovered\",\n",
    "            children=If((f\"[{v}_is_ore]\", f\"[{v}_final] * [recovery_ml]\"), \"0\"),\n",
    "        )\n",
    "        for v in variables\n",
    "    ]\n",
    "    + [Number(name=\"block_value\", children=[value_expr])]\n",
    ")\n",
    "\n",
    "# Concatenate with previous workflow\n",
    "final_calcset2 = calcset_weighted + calcset_post2 + calcset_ml + calcset_conditional\n",
    "final_calcset2.to_lfcalc(\"final_workflow_with_conditional.lfcalc\")\n",
    "print(\"Wrote final_workflow_with_conditional.lfcalc!\")\n",
    "final_calcset2.to_dict()"
   ]
  }
 ],
 "metadata": {
  "kernelspec": {
   "display_name": "lf",
   "language": "python",
   "name": "python3"
  },
  "language_info": {
   "codemirror_mode": {
    "name": "ipython",
    "version": 3
   },
   "file_extension": ".py",
   "mimetype": "text/x-python",
   "name": "python",
   "nbconvert_exporter": "python",
   "pygments_lexer": "ipython3",
   "version": "3.11.13"
  }
 },
 "nbformat": 4,
 "nbformat_minor": 5
}
