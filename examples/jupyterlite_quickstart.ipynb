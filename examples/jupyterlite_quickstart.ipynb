{
 "cells": [
  {
   "cell_type": "markdown",
   "id": "3d6bf4e1",
   "metadata": {},
   "source": [
    "# Getting Started with Pollywog in JupyterLite\n",
    "\n",
    "Pollywog is included in this JupyterLite deployment by copying the `pollywog` folder directly into the environment. This means you don't need to run `pip install pollywog`—the package is available immediately for import.\n",
    "\n",
    "**Why copy the folder?**\n",
    "- JupyterLite runs Python in the browser (via Pyodide), so installing packages with `pip` is not always possible or can be slow.\n",
    "- By copying the `pollywog` folder, you avoid installation steps, ensure instant access to the latest code and avoid wasting PyPI's infrastructure unnecessarily.\n",
    "\n",
    "**Alternative: Install with pip or micropip**\n",
    "- You can use the `%pip` magic or `micropip` to install packages from PyPI if needed:\n",
    "  ```python\n",
    "  %pip install pollywog\n",
    "  # or\n",
    "  import micropip\n",
    "  await micropip.install('pollywog')\n",
    "  ```\n",
    "- This is useful for other libraries or if you want to install a specific version.\n",
    "\n",
    "**Important:**\n",
    "To ensure Python can find the local `pollywog` folder, add this snippet to the top of your notebook:\n",
    "```python\n",
    "import sys\n",
    "if '/drive/' not in sys.path:\n",
    "    sys.path.insert(0, '/drive/')\n",
    "```\n",
    "This makes sure imports like `from pollywog.core import CalcSet` work as expected.\n"
   ]
  },
  {
   "cell_type": "markdown",
   "id": "576bc5b4",
   "metadata": {},
   "source": [
    "# Welcome to Pollywog in JupyterLite\n",
    "\n",
    "This notebook introduces the core features of Pollywog, a lightweight calculation workflow engine, running seamlessly in JupyterLite.\n",
    "\n",
    "You'll learn how to:\n",
    "- Create and run a simple calculation workflow\n",
    "- Use the `%pollywog autodownload` magic to enable browser-based file downloads\n",
    "- Export results for download in JupyterLite"
   ]
  },
  {
   "cell_type": "code",
   "execution_count": null,
   "id": "9384efd2",
   "metadata": {},
   "outputs": [],
   "source": [
    "# Import pollywog core classes\n",
    "from pollywog.core import CalcSet, Number"
   ]
  },
  {
   "cell_type": "markdown",
   "id": "045d67fa",
   "metadata": {},
   "source": [
    "## 1. Create a Simple Calculation Workflow\n",
    "\n",
    "Let's define a basic workflow that calculates the sum of two numbers."
   ]
  },
  {
   "cell_type": "code",
   "execution_count": null,
   "id": "b300bbf8",
   "metadata": {},
   "outputs": [],
   "source": [
    "workflow = CalcSet([\n",
    "    Number('a', ['2']),\n",
    "    Number('b', ['3']),\n",
    "    Number('sum', ['a + b'])\n",
    "])\n",
    "workflow"
   ]
  },
  {
   "cell_type": "markdown",
   "id": "ae068376",
   "metadata": {},
   "source": [
    "## 2. Enable Autodownload Magic\n",
    "\n",
    "Pollywog provides a magic command to enable automatic downloads in JupyterLite. This allows you to export results directly to your browser.\n",
    "\n",
    "Run the following cell to enable autodownload:"
   ]
  },
  {
   "cell_type": "code",
   "execution_count": null,
   "id": "350a24f5",
   "metadata": {},
   "outputs": [],
   "source": [
    "%load_ext pollywog.magics\n",
    "%pollywog autodownload on"
   ]
  },
  {
   "cell_type": "markdown",
   "id": "ab444929",
   "metadata": {},
   "source": [
    "## 3. Export Results for Download\n",
    "\n",
    "After running `workflow.to_lfcalc('my_workflow.lfcalc')`, you have two ways to download the generated file in JupyterLite:\n",
    "\n",
    "**Option 1: Manual Download**\n",
    "- In JupyterLite, open the file browser (usually on the left sidebar).\n",
    "- Right-click on `my_workflow.lfcalc` and select **Download** to save it to your computer.\n",
    "\n",
    "**Option 2: Automatic Download with Magic**\n",
    "- Enable autodownload with the magic command:\n",
    "  ```python\n",
    "  %load_ext pollywog.magics\n",
    "  %pollywog autodownload on\n",
    "  ```\n",
    "- Now, when you run `workflow.to_lfcalc('my_workflow.lfcalc')`, the file will be automatically downloaded to your browser.\n",
    "\n",
    "Choose the method that best fits your workflow!"
   ]
  },
  {
   "cell_type": "code",
   "execution_count": null,
   "id": "67bfad02",
   "metadata": {},
   "outputs": [],
   "source": [
    "# Export the workflow to a file (triggers download in JupyterLite)\n",
    "workflow.to_lfcalc('my_workflow.lfcalc')"
   ]
  },
  {
   "cell_type": "markdown",
   "id": "f4b55ff9",
   "metadata": {},
   "source": [
    "## 4. More Resources\n",
    "\n",
    "- See the `examples/` folder for more advanced workflows and tutorials.\n",
    "- Documentation: [Pollywog on GitHub](https://github.com/endarthur/pollywog)"
   ]
  }
 ],
 "metadata": {
  "kernelspec": {
   "display_name": "lf",
   "language": "python",
   "name": "python3"
  },
  "language_info": {
   "codemirror_mode": {
    "name": "ipython",
    "version": 3
   },
   "file_extension": ".py",
   "mimetype": "text/x-python",
   "name": "python",
   "nbconvert_exporter": "python",
   "pygments_lexer": "ipython3",
   "version": "3.11.13"
  }
 },
 "nbformat": 4,
 "nbformat_minor": 5
}
