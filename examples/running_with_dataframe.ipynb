{
 "cells": [
  {
   "cell_type": "markdown",
   "id": "445596dc",
   "metadata": {},
   "source": [
    "# Example: Running CalcSet with a pandas DataFrame\n",
    "\n",
    "This notebook demonstrates how to use pollywog to run calculations on tabular data using pandas DataFrames. You'll see how to:\n",
    "- Define a calculation set (CalcSet) with variables and calculations\n",
    "- Prepare a pandas DataFrame with input data\n",
    "- Run calculations using both the `run_calcset` function and the pandas DataFrame accessor\n",
    "- Inspect the results and understand how pollywog integrates with pandas\n"
   ]
  },
  {
   "cell_type": "code",
   "execution_count": 1,
   "id": "57d94ea8",
   "metadata": {},
   "outputs": [],
   "source": [
    "import sys\n",
    "\n",
    "p = \"..\"\n",
    "if p not in sys.path:\n",
    "    sys.path.insert(0, p)\n",
    "\n",
    "import pollywog as pw"
   ]
  },
  {
   "cell_type": "markdown",
   "id": "9f700d0f",
   "metadata": {},
   "source": [
    "# Example: Running CalcSet with a pandas DataFrame\n",
    "This notebook demonstrates how to run calculations on a DataFrame and use the pandas accessor."
   ]
  },
  {
   "cell_type": "code",
   "execution_count": 2,
   "id": "45dd787e",
   "metadata": {},
   "outputs": [
    {
     "name": "stdout",
     "output_type": "stream",
     "text": [
      "Input DataFrame:\n",
      "   a\n",
      "0  1\n",
      "1  2\n",
      "2  3\n",
      "\n",
      "Results using run_calcset:\n",
      "     b\n",
      "0  2.0\n",
      "1  3.0\n",
      "2  4.0\n",
      "\n",
      "Results using pandas accessor:\n",
      "     b\n",
      "0  2.0\n",
      "1  3.0\n",
      "2  4.0\n"
     ]
    }
   ],
   "source": [
    "import pandas as pd\n",
    "from pollywog.core import CalcSet, Variable, Number\n",
    "from pollywog.run import run_calcset\n",
    "\n",
    "# Step 1: Prepare input data as a pandas DataFrame\n",
    "# Each row represents a set of input variables\n",
    "input_data = {\"a\": [1, 2, 3]}\n",
    "df = pd.DataFrame(input_data)\n",
    "print(\"Input DataFrame:\")\n",
    "print(df)\n",
    "\n",
    "# Step 2: Define a CalcSet with variables and calculations\n",
    "# 'a' is a variable, 'b' is a calculation depending on 'a'\n",
    "cs = CalcSet(\n",
    "    [Variable(name=\"a\", children=[\"\"]), Number(name=\"b\", children=[\"[a] + 1\"])]\n",
    ")\n",
    "\n",
    "# Step 3: Run calculations using run_calcset\n",
    "result_df = run_calcset(cs, dataframe=df)\n",
    "print(\"\\nResults using run_calcset:\")\n",
    "print(result_df)\n",
    "\n",
    "# Step 4: Run calculations using the pandas DataFrame accessor\n",
    "result_df2 = df.pw.run(cs)\n",
    "print(\"\\nResults using pandas accessor:\")\n",
    "print(result_df2)\n",
    "\n",
    "# Step 5: Inspect results\n",
    "# The output DataFrame contains the calculated column 'b' for each input row"
   ]
  }
 ],
 "metadata": {
  "kernelspec": {
   "display_name": "lf",
   "language": "python",
   "name": "python3"
  },
  "language_info": {
   "codemirror_mode": {
    "name": "ipython",
    "version": 3
   },
   "file_extension": ".py",
   "mimetype": "text/x-python",
   "name": "python",
   "nbconvert_exporter": "python",
   "pygments_lexer": "ipython3",
   "version": "3.11.13"
  }
 },
 "nbformat": 4,
 "nbformat_minor": 5
}
