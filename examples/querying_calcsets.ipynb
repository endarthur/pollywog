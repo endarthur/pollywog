{
 "cells": [
  {
   "cell_type": "markdown",
   "id": "9c1ed31e",
   "metadata": {},
   "source": [
    "# Example: Querying CalcSets\n",
    "\n",
    "This notebook demonstrates how to use the `query` method to filter items in a CalcSet. You'll learn how to:\n",
    "- Create a CalcSet with variables and calculations\n",
    "- Use query expressions to select items by name or other attributes\n",
    "- Use external variables in queries\n",
    "- Understand the results of queries\n"
   ]
  },
  {
   "cell_type": "code",
   "execution_count": 3,
   "id": "8e9b0fe3",
   "metadata": {},
   "outputs": [],
   "source": [
    "import sys\n",
    "\n",
    "p = \"..\"\n",
    "if p not in sys.path:\n",
    "    sys.path.insert(0, p)\n",
    "\n",
    "import pollywog as pw"
   ]
  },
  {
   "cell_type": "markdown",
   "id": "6ed83ffe",
   "metadata": {},
   "source": [
    "# Example: Querying CalcSets\n",
    "This notebook demonstrates how to use the `query` method to filter items in a CalcSet."
   ]
  },
  {
   "cell_type": "code",
   "execution_count": null,
   "id": "7a1860fa",
   "metadata": {},
   "outputs": [
    {
     "name": "stdout",
     "output_type": "stream",
     "text": [
      "Items whose name starts with 'b': ['b1', 'b2']\n",
      "Items with more than one child: []\n",
      "Items whose name starts with external variable 'prefix': ['foo']\n"
     ]
    }
   ],
   "source": [
    "from pollywog.core import CalcSet, Number, Variable\n",
    "\n",
    "# Step 1: Create a CalcSet with variables and calculations\n",
    "cs = CalcSet(\n",
    "    [\n",
    "        Variable(name=\"a\", children=[\"42\"]),\n",
    "        Number(name=\"b1\", children=[\"[a] + 1\"]),\n",
    "        Number(name=\"b2\", children=[\"[b1] + 2\"]),\n",
    "        Number(name=\"foo\", children=[\"[a] * 2\"]),\n",
    "    ]\n",
    ")\n",
    "\n",
    "# Step 2: Query for items whose name starts with 'b'\n",
    "cs_b = cs.query('name.startswith(\"b\")')\n",
    "print(\n",
    "    \"Items whose name starts with 'b':\", [item.name for item in cs_b.items]\n",
    ")  # ['b1', 'b2']\n",
    "\n",
    "# Step 3: Query for items with more than one child (none in this example)\n",
    "cs_multi = cs.query(\"len(children) > 1\")\n",
    "print(\"Items with more than one child:\", [item.name for item in cs_multi.items])\n",
    "\n",
    "# Step 4: Use an external variable in a query\n",
    "prefix = \"f\"\n",
    "cs_ext = cs.query(\"name.startswith(@prefix)\")\n",
    "print(\n",
    "    \"Items whose name starts with external variable 'prefix':\",\n",
    "    [item.name for item in cs_ext.items],\n",
    ")"
   ]
  }
 ],
 "metadata": {
  "kernelspec": {
   "display_name": "lf",
   "language": "python",
   "name": "python3"
  },
  "language_info": {
   "codemirror_mode": {
    "name": "ipython",
    "version": 3
   },
   "file_extension": ".py",
   "mimetype": "text/x-python",
   "name": "python",
   "nbconvert_exporter": "python",
   "pygments_lexer": "ipython3",
   "version": "3.11.13"
  }
 },
 "nbformat": 4,
 "nbformat_minor": 5
}
