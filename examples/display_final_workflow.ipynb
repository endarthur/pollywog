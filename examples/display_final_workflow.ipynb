{
 "cells": [
  {
   "cell_type": "markdown",
   "id": "d2fd8c77",
   "metadata": {},
   "source": [
    "# Display Leapfrog CalcSet Example\n",
    "This notebook loads a Leapfrog .lfcalc file and displays its contents visually, grouped by variables, calculations, and filters."
   ]
  },
  {
   "cell_type": "code",
   "execution_count": null,
   "id": "b878dff3",
   "metadata": {},
   "outputs": [],
   "source": [
    "import sys\n",
    "\n",
    "p = \"..\"\n",
    "if p not in sys.path:\n",
    "    sys.path.insert(0, p)\n",
    "\n",
    "import pollywog as pw"
   ]
  },
  {
   "cell_type": "code",
   "execution_count": 5,
   "id": "53bdcd20",
   "metadata": {},
   "outputs": [],
   "source": [
    "import sys\n",
    "\n",
    "sys.path.append(\"..\")  # Ensure pollywog is importable if running from examples folder\n",
    "from pollywog.core import CalcSet, Number, Category, If\n",
    "from pollywog.display import display_calcset\n",
    "import pollywog.display\n",
    "\n",
    "pollywog.display.set_theme(\"dark\")  # Set dark theme globally (optional)"
   ]
  },
  {
   "cell_type": "code",
   "execution_count": 17,
   "id": "114085a8",
   "metadata": {},
   "outputs": [],
   "source": [
    "# Load the .lfcalc file\n",
    "calcset = CalcSet.read_lfcalc(\"final_workflow_with_conditional.lfcalc\")"
   ]
  },
  {
   "cell_type": "code",
   "execution_count": 18,
   "id": "0f9062bd",
   "metadata": {},
   "outputs": [
    {
     "data": {
      "text/html": [
       "<div style=\"font-family:sans-serif;max-width:900px;color:#eee;\"><details open><summary style=\"font-size:1.1em;font-weight:bold;color:#7abaff;\">Calculations</summary><div style=\"margin-bottom:0.5em;\"><b style=\"color:#0057b7;\">Ag_final</b> <span style=\"background:#eee;border-radius:4px;padding:2px 6px;color:#222;\">number</span><div style=\"margin-left:1em;color:#555;\"><span style=\"color:#eee;\">(<span style=\"color:#ffb77a;\">[Ag_LG]</span> * <span style=\"color:#ffb77a;\">[prop_LG]</span>*<span style=\"color:#ffb77a;\">[density]</span> + <span style=\"color:#ffb77a;\">[Ag_HG]</span> * <span style=\"color:#ffb77a;\">[prop_HG]</span>*<span style=\"color:#ffb77a;\">[density]</span> + <span style=\"color:#ffb77a;\">[Ag_waste]</span> * <span style=\"color:#ffb77a;\">[prop_waste]</span>*<span style=\"color:#ffb77a;\">[density]</span>)/(<span style=\"color:#ffb77a;\">[prop_LG]</span>*<span style=\"color:#ffb77a;\">[density]</span>+<span style=\"color:#ffb77a;\">[prop_HG]</span>*<span style=\"color:#ffb77a;\">[density]</span>+<span style=\"color:#ffb77a;\">[prop_waste]</span>*<span style=\"color:#ffb77a;\">[density]</span>)</span> </div></div><div style=\"margin-bottom:0.5em;\"><b style=\"color:#0057b7;\">Au_final</b> <span style=\"background:#eee;border-radius:4px;padding:2px 6px;color:#222;\">number</span><div style=\"margin-left:1em;color:#555;\"><span style=\"color:#eee;\">(<span style=\"color:#ffb77a;\">[Au_LG]</span> * <span style=\"color:#ffb77a;\">[prop_LG]</span>*<span style=\"color:#ffb77a;\">[density]</span> + <span style=\"color:#ffb77a;\">[Au_HG]</span> * <span style=\"color:#ffb77a;\">[prop_HG]</span>*<span style=\"color:#ffb77a;\">[density]</span> + <span style=\"color:#ffb77a;\">[Au_waste]</span> * <span style=\"color:#ffb77a;\">[prop_waste]</span>*<span style=\"color:#ffb77a;\">[density]</span>)/(<span style=\"color:#ffb77a;\">[prop_LG]</span>*<span style=\"color:#ffb77a;\">[density]</span>+<span style=\"color:#ffb77a;\">[prop_HG]</span>*<span style=\"color:#ffb77a;\">[density]</span>+<span style=\"color:#ffb77a;\">[prop_waste]</span>*<span style=\"color:#ffb77a;\">[density]</span>)</span> </div></div><div style=\"margin-bottom:0.5em;\"><b style=\"color:#0057b7;\">Cu_final</b> <span style=\"background:#eee;border-radius:4px;padding:2px 6px;color:#222;\">number</span><div style=\"margin-left:1em;color:#555;\"><span style=\"color:#eee;\">(<span style=\"color:#ffb77a;\">[Cu_LG]</span> * <span style=\"color:#ffb77a;\">[prop_LG]</span>*<span style=\"color:#ffb77a;\">[density]</span> + <span style=\"color:#ffb77a;\">[Cu_HG]</span> * <span style=\"color:#ffb77a;\">[prop_HG]</span>*<span style=\"color:#ffb77a;\">[density]</span> + <span style=\"color:#ffb77a;\">[Cu_waste]</span> * <span style=\"color:#ffb77a;\">[prop_waste]</span>*<span style=\"color:#ffb77a;\">[density]</span>)/(<span style=\"color:#ffb77a;\">[prop_LG]</span>*<span style=\"color:#ffb77a;\">[density]</span>+<span style=\"color:#ffb77a;\">[prop_HG]</span>*<span style=\"color:#ffb77a;\">[density]</span>+<span style=\"color:#ffb77a;\">[prop_waste]</span>*<span style=\"color:#ffb77a;\">[density]</span>)</span> </div></div><div style=\"margin-bottom:0.5em;\"><b style=\"color:#0057b7;\">Cu_equiv</b> <span style=\"background:#eee;border-radius:4px;padding:2px 6px;color:#222;\">number</span><div style=\"margin-left:1em;color:#555;\"><span style=\"color:#eee;\"><span style=\"color:#ffb77a;\">[Ag_final]</span> * 2 + <span style=\"color:#ffb77a;\">[Au_final]</span> * 31 + <span style=\"color:#ffb77a;\">[Cu_final]</span> * 1</span> </div></div><div style=\"margin-bottom:0.5em;\"><b style=\"color:#0057b7;\">recovery_ml</b> <span style=\"background:#eee;border-radius:4px;padding:2px 6px;color:#222;\">number</span><div style=\"margin-left:1em;color:#555;\"><span style=\"color:#eee;\"></span><br><div style=\"margin-left:0px;border-left:2px solid #7abaff;padding-left:8px;\"><span style=\"color:#7abaff;\">if</span> <span style=\"color:#eee;\"><span style=\"color:#ffb77a;\">[Cu_final]</span> &lt;= 0.5000000149011612</span> <span style=\"color:#eee;\">&rarr;</span> &nbsp;&nbsp;&nbsp;&nbsp;<span style=\"color:#eee;\"></span><br><div style=\"margin-left:24px;border-left:2px solid #7abaff;padding-left:8px;\"><span style=\"color:#7abaff;\">if</span> <span style=\"color:#eee;\"><span style=\"color:#ffb77a;\">[Cu_final]</span> &lt;= 0.20000000298023224</span> <span style=\"color:#eee;\">&rarr;</span> &nbsp;&nbsp;&nbsp;&nbsp;&nbsp;&nbsp;&nbsp;&nbsp;<span style=\"color:#eee;\">0.7</span></div><div style=\"margin-left:24px;border-left:2px solid #7abaff;padding-left:8px;\"><span style=\"color:#7abaff;\">otherwise</span> <span style=\"color:#eee;\">&rarr;</span> &nbsp;&nbsp;&nbsp;&nbsp;&nbsp;&nbsp;&nbsp;&nbsp;<span style=\"color:#eee;\"></span><br><div style=\"margin-left:48px;border-left:2px solid #7abaff;padding-left:8px;\"><span style=\"color:#7abaff;\">if</span> <span style=\"color:#eee;\"><span style=\"color:#ffb77a;\">[Cu_final]</span> &lt;= 0.32500000298023224</span> <span style=\"color:#eee;\">&rarr;</span> &nbsp;&nbsp;&nbsp;&nbsp;&nbsp;&nbsp;&nbsp;&nbsp;&nbsp;&nbsp;&nbsp;&nbsp;<span style=\"color:#eee;\">0.75</span></div><div style=\"margin-left:48px;border-left:2px solid #7abaff;padding-left:8px;\"><span style=\"color:#7abaff;\">otherwise</span> <span style=\"color:#eee;\">&rarr;</span> &nbsp;&nbsp;&nbsp;&nbsp;&nbsp;&nbsp;&nbsp;&nbsp;&nbsp;&nbsp;&nbsp;&nbsp;<span style=\"color:#eee;\">0.8</span></div><br>&nbsp;&nbsp;&nbsp;&nbsp;&nbsp;&nbsp;&nbsp;&nbsp;<span style=\"color:#eee;\"></span></div><br>&nbsp;&nbsp;&nbsp;&nbsp;<span style=\"color:#eee;\"></span></div><div style=\"margin-left:0px;border-left:2px solid #7abaff;padding-left:8px;\"><span style=\"color:#7abaff;\">otherwise</span> <span style=\"color:#eee;\">&rarr;</span> &nbsp;&nbsp;&nbsp;&nbsp;<span style=\"color:#eee;\"></span><br><div style=\"margin-left:24px;border-left:2px solid #7abaff;padding-left:8px;\"><span style=\"color:#7abaff;\">if</span> <span style=\"color:#eee;\"><span style=\"color:#ffb77a;\">[Au_final]</span> &lt;= 3.5</span> <span style=\"color:#eee;\">&rarr;</span> &nbsp;&nbsp;&nbsp;&nbsp;&nbsp;&nbsp;&nbsp;&nbsp;<span style=\"color:#eee;\"></span><br><div style=\"margin-left:48px;border-left:2px solid #7abaff;padding-left:8px;\"><span style=\"color:#7abaff;\">if</span> <span style=\"color:#eee;\"><span style=\"color:#ffb77a;\">[Ag_final]</span> &lt;= 80.0</span> <span style=\"color:#eee;\">&rarr;</span> &nbsp;&nbsp;&nbsp;&nbsp;&nbsp;&nbsp;&nbsp;&nbsp;&nbsp;&nbsp;&nbsp;&nbsp;<span style=\"color:#eee;\">0.865</span></div><div style=\"margin-left:48px;border-left:2px solid #7abaff;padding-left:8px;\"><span style=\"color:#7abaff;\">otherwise</span> <span style=\"color:#eee;\">&rarr;</span> &nbsp;&nbsp;&nbsp;&nbsp;&nbsp;&nbsp;&nbsp;&nbsp;&nbsp;&nbsp;&nbsp;&nbsp;<span style=\"color:#eee;\">0.91</span></div><br>&nbsp;&nbsp;&nbsp;&nbsp;&nbsp;&nbsp;&nbsp;&nbsp;<span style=\"color:#eee;\"></span></div><div style=\"margin-left:24px;border-left:2px solid #7abaff;padding-left:8px;\"><span style=\"color:#7abaff;\">otherwise</span> <span style=\"color:#eee;\">&rarr;</span> &nbsp;&nbsp;&nbsp;&nbsp;&nbsp;&nbsp;&nbsp;&nbsp;<span style=\"color:#eee;\"></span><br><div style=\"margin-left:48px;border-left:2px solid #7abaff;padding-left:8px;\"><span style=\"color:#7abaff;\">if</span> <span style=\"color:#eee;\"><span style=\"color:#ffb77a;\">[Cu_final]</span> &lt;= 2.25</span> <span style=\"color:#eee;\">&rarr;</span> &nbsp;&nbsp;&nbsp;&nbsp;&nbsp;&nbsp;&nbsp;&nbsp;&nbsp;&nbsp;&nbsp;&nbsp;<span style=\"color:#eee;\">0.96</span></div><div style=\"margin-left:48px;border-left:2px solid #7abaff;padding-left:8px;\"><span style=\"color:#7abaff;\">otherwise</span> <span style=\"color:#eee;\">&rarr;</span> &nbsp;&nbsp;&nbsp;&nbsp;&nbsp;&nbsp;&nbsp;&nbsp;&nbsp;&nbsp;&nbsp;&nbsp;<span style=\"color:#eee;\">0.99</span></div><br>&nbsp;&nbsp;&nbsp;&nbsp;&nbsp;&nbsp;&nbsp;&nbsp;<span style=\"color:#eee;\"></span></div><br>&nbsp;&nbsp;&nbsp;&nbsp;<span style=\"color:#eee;\"></span></div><br><span style=\"color:#eee;\"></span> <span style=\"color:#999;\">Converted from DecisionTreeRegressor</span></div></div><div style=\"margin-bottom:0.5em;\"><b style=\"color:#0057b7;\">Ag_recovered</b> <span style=\"background:#eee;border-radius:4px;padding:2px 6px;color:#222;\">number</span><div style=\"margin-left:1em;color:#555;\"><span style=\"color:#eee;\"></span><br><div style=\"margin-left:0px;border-left:2px solid #7abaff;padding-left:8px;\"><span style=\"color:#7abaff;\">if</span> <span style=\"color:#eee;\"><span style=\"color:#ffb77a;\">[Ag_is_ore]</span></span> <span style=\"color:#eee;\">&rarr;</span> &nbsp;&nbsp;&nbsp;&nbsp;<span style=\"color:#eee;\"><span style=\"color:#ffb77a;\">[Ag_final]</span> * <span style=\"color:#ffb77a;\">[recovery_ml]</span></span></div><div style=\"margin-left:0px;border-left:2px solid #7abaff;padding-left:8px;\"><span style=\"color:#7abaff;\">otherwise</span> <span style=\"color:#eee;\">&rarr;</span> &nbsp;&nbsp;&nbsp;&nbsp;<span style=\"color:#eee;\">0</span></div><br><span style=\"color:#eee;\"></span> </div></div><div style=\"margin-bottom:0.5em;\"><b style=\"color:#0057b7;\">Au_recovered</b> <span style=\"background:#eee;border-radius:4px;padding:2px 6px;color:#222;\">number</span><div style=\"margin-left:1em;color:#555;\"><span style=\"color:#eee;\"></span><br><div style=\"margin-left:0px;border-left:2px solid #7abaff;padding-left:8px;\"><span style=\"color:#7abaff;\">if</span> <span style=\"color:#eee;\"><span style=\"color:#ffb77a;\">[Au_is_ore]</span></span> <span style=\"color:#eee;\">&rarr;</span> &nbsp;&nbsp;&nbsp;&nbsp;<span style=\"color:#eee;\"><span style=\"color:#ffb77a;\">[Au_final]</span> * <span style=\"color:#ffb77a;\">[recovery_ml]</span></span></div><div style=\"margin-left:0px;border-left:2px solid #7abaff;padding-left:8px;\"><span style=\"color:#7abaff;\">otherwise</span> <span style=\"color:#eee;\">&rarr;</span> &nbsp;&nbsp;&nbsp;&nbsp;<span style=\"color:#eee;\">0</span></div><br><span style=\"color:#eee;\"></span> </div></div><div style=\"margin-bottom:0.5em;\"><b style=\"color:#0057b7;\">Cu_recovered</b> <span style=\"background:#eee;border-radius:4px;padding:2px 6px;color:#222;\">number</span><div style=\"margin-left:1em;color:#555;\"><span style=\"color:#eee;\"></span><br><div style=\"margin-left:0px;border-left:2px solid #7abaff;padding-left:8px;\"><span style=\"color:#7abaff;\">if</span> <span style=\"color:#eee;\"><span style=\"color:#ffb77a;\">[Cu_is_ore]</span></span> <span style=\"color:#eee;\">&rarr;</span> &nbsp;&nbsp;&nbsp;&nbsp;<span style=\"color:#eee;\"><span style=\"color:#ffb77a;\">[Cu_final]</span> * <span style=\"color:#ffb77a;\">[recovery_ml]</span></span></div><div style=\"margin-left:0px;border-left:2px solid #7abaff;padding-left:8px;\"><span style=\"color:#7abaff;\">otherwise</span> <span style=\"color:#eee;\">&rarr;</span> &nbsp;&nbsp;&nbsp;&nbsp;<span style=\"color:#eee;\">0</span></div><br><span style=\"color:#eee;\"></span> </div></div><div style=\"margin-bottom:0.5em;\"><b style=\"color:#0057b7;\">block_value</b> <span style=\"background:#eee;border-radius:4px;padding:2px 6px;color:#222;\">number</span><div style=\"margin-left:1em;color:#555;\"><span style=\"color:#eee;\"><span style=\"color:#ffb77a;\">[Ag_recovered]</span> * 25 + <span style=\"color:#ffb77a;\">[Au_recovered]</span> * 2000 + <span style=\"color:#ffb77a;\">[Cu_recovered]</span> * 8 - 50</span> </div></div></details><details open><summary style=\"font-size:1.1em;font-weight:bold;color:#7abaff;\">Filters</summary><div style=\"margin-bottom:0.5em;\"><b style=\"color:#0057b7;\">Ag_is_ore</b> <span style=\"background:#eee;border-radius:4px;padding:2px 6px;color:#222;\">filter</span><div style=\"margin-left:1em;color:#555;\"><span style=\"color:#eee;\"><span style=\"color:#ffb77a;\">[Ag_final]</span> &gt; 5</span> </div></div><div style=\"margin-bottom:0.5em;\"><b style=\"color:#0057b7;\">Au_is_ore</b> <span style=\"background:#eee;border-radius:4px;padding:2px 6px;color:#222;\">filter</span><div style=\"margin-left:1em;color:#555;\"><span style=\"color:#eee;\"><span style=\"color:#ffb77a;\">[Au_final]</span> &gt; 0.5</span> </div></div><div style=\"margin-bottom:0.5em;\"><b style=\"color:#0057b7;\">Cu_is_ore</b> <span style=\"background:#eee;border-radius:4px;padding:2px 6px;color:#222;\">filter</span><div style=\"margin-left:1em;color:#555;\"><span style=\"color:#eee;\"><span style=\"color:#ffb77a;\">[Cu_final]</span> &gt; 0.2</span> </div></div></details></div>"
      ],
      "text/plain": [
       "<IPython.core.display.HTML object>"
      ]
     },
     "metadata": {},
     "output_type": "display_data"
    }
   ],
   "source": [
    "# Display the CalcSet visually in Leapfrog style\n",
    "display_calcset(\n",
    "    calcset, theme=\"dark\"\n",
    ")  # This will render a rich HTML view, not raw JSON"
   ]
  },
  {
   "cell_type": "code",
   "execution_count": null,
   "id": "3d5ee45d",
   "metadata": {},
   "outputs": [],
   "source": []
  }
 ],
 "metadata": {
  "kernelspec": {
   "display_name": "lf",
   "language": "python",
   "name": "python3"
  },
  "language_info": {
   "codemirror_mode": {
    "name": "ipython",
    "version": 3
   },
   "file_extension": ".py",
   "mimetype": "text/x-python",
   "name": "python",
   "nbconvert_exporter": "python",
   "pygments_lexer": "ipython3",
   "version": "3.11.13"
  }
 },
 "nbformat": 4,
 "nbformat_minor": 5
}
